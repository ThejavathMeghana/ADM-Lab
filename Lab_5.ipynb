{
  "nbformat": 4,
  "nbformat_minor": 0,
  "metadata": {
    "colab": {
      "provenance": [],
      "authorship_tag": "ABX9TyO4+5qY3mVq4HdSB/vu5SlN",
      "include_colab_link": true
    },
    "kernelspec": {
      "name": "python3",
      "display_name": "Python 3"
    },
    "language_info": {
      "name": "python"
    }
  },
  "cells": [
    {
      "cell_type": "markdown",
      "metadata": {
        "id": "view-in-github",
        "colab_type": "text"
      },
      "source": [
        "<a href=\"https://colab.research.google.com/github/ThejavathMeghana/ADM-Lab/blob/main/Lab_5.ipynb\" target=\"_parent\"><img src=\"https://colab.research.google.com/assets/colab-badge.svg\" alt=\"Open In Colab\"/></a>"
      ]
    },
    {
      "cell_type": "code",
      "source": [
        "import pandas as pd\n"
      ],
      "metadata": {
        "colab": {
          "base_uri": "https://localhost:8080/"
        },
        "id": "5ScmLbHTf8N0",
        "outputId": "32d34ecb-ad16-462d-bded-f2b53039ea01"
      },
      "execution_count": null,
      "outputs": [
        {
          "output_type": "stream",
          "name": "stderr",
          "text": [
            "/usr/local/lib/python3.11/dist-packages/ipykernel/ipkernel.py:283: DeprecationWarning: `should_run_async` will not call `transform_cell` automatically in the future. Please pass the result to `transformed_cell` argument and any exception that happen during thetransform in `preprocessing_exc_tuple` in IPython 7.17 and above.\n",
            "  and should_run_async(code)\n"
          ]
        }
      ]
    },
    {
      "cell_type": "code",
      "source": [
        "from mlxtend.frequent_patterns import apriori"
      ],
      "metadata": {
        "colab": {
          "base_uri": "https://localhost:8080/"
        },
        "id": "KYGZCgVDgNsE",
        "outputId": "e23d7ff3-455b-4340-ab28-a4aebc3d3ce9"
      },
      "execution_count": null,
      "outputs": [
        {
          "output_type": "stream",
          "name": "stderr",
          "text": [
            "/usr/local/lib/python3.11/dist-packages/ipykernel/ipkernel.py:283: DeprecationWarning: `should_run_async` will not call `transform_cell` automatically in the future. Please pass the result to `transformed_cell` argument and any exception that happen during thetransform in `preprocessing_exc_tuple` in IPython 7.17 and above.\n",
            "  and should_run_async(code)\n"
          ]
        }
      ]
    },
    {
      "cell_type": "code",
      "source": [
        "from mlxtend.preprocessing import TransactionEncoder\n",
        "\n",
        "te = TransactionEncoder()"
      ],
      "metadata": {
        "colab": {
          "base_uri": "https://localhost:8080/"
        },
        "id": "J9fz8v7Tgrh-",
        "outputId": "e6a7703c-fe82-4bd0-f57a-aff31300aa87"
      },
      "execution_count": null,
      "outputs": [
        {
          "output_type": "stream",
          "name": "stderr",
          "text": [
            "/usr/local/lib/python3.11/dist-packages/ipykernel/ipkernel.py:283: DeprecationWarning: `should_run_async` will not call `transform_cell` automatically in the future. Please pass the result to `transformed_cell` argument and any exception that happen during thetransform in `preprocessing_exc_tuple` in IPython 7.17 and above.\n",
            "  and should_run_async(code)\n"
          ]
        }
      ]
    },
    {
      "cell_type": "code",
      "source": [
        "dataset = [\n",
        "    ['milk', 'bread', 'butter'],\n",
        "    ['milk', 'bread'],\n",
        "    ['bread', 'butter'],\n",
        "    ['milk', 'bread', 'butter', 'jam'],\n",
        "    ['milk', 'bread', 'jam']\n",
        "]\n"
      ],
      "metadata": {
        "colab": {
          "base_uri": "https://localhost:8080/"
        },
        "id": "LgPxRRzzgw0x",
        "outputId": "57b33939-4fb1-4927-b8d1-3b7d18cf84c1"
      },
      "execution_count": null,
      "outputs": [
        {
          "output_type": "stream",
          "name": "stderr",
          "text": [
            "/usr/local/lib/python3.11/dist-packages/ipykernel/ipkernel.py:283: DeprecationWarning: `should_run_async` will not call `transform_cell` automatically in the future. Please pass the result to `transformed_cell` argument and any exception that happen during thetransform in `preprocessing_exc_tuple` in IPython 7.17 and above.\n",
            "  and should_run_async(code)\n"
          ]
        }
      ]
    },
    {
      "cell_type": "code",
      "source": [
        "te = TransactionEncoder()\n",
        "te_ary = te.fit(dataset).transform(dataset)\n",
        "df = pd.DataFrame(te_ary, columns=te.columns_)\n",
        "\n"
      ],
      "metadata": {
        "colab": {
          "base_uri": "https://localhost:8080/"
        },
        "id": "KqZ9UcXBg1Uo",
        "outputId": "51904e99-79f3-4a8f-a990-e2645928221a"
      },
      "execution_count": null,
      "outputs": [
        {
          "output_type": "stream",
          "name": "stderr",
          "text": [
            "/usr/local/lib/python3.11/dist-packages/ipykernel/ipkernel.py:283: DeprecationWarning: `should_run_async` will not call `transform_cell` automatically in the future. Please pass the result to `transformed_cell` argument and any exception that happen during thetransform in `preprocessing_exc_tuple` in IPython 7.17 and above.\n",
            "  and should_run_async(code)\n"
          ]
        }
      ]
    },
    {
      "cell_type": "code",
      "source": [
        "frequent_itemsets = apriori(df, min_support=0.3, use_colnames=True)\n",
        "\n"
      ],
      "metadata": {
        "colab": {
          "base_uri": "https://localhost:8080/"
        },
        "id": "huFerMyVg24G",
        "outputId": "99982d47-a9ba-4d10-b501-10953b20df5a"
      },
      "execution_count": null,
      "outputs": [
        {
          "output_type": "stream",
          "name": "stderr",
          "text": [
            "/usr/local/lib/python3.11/dist-packages/ipykernel/ipkernel.py:283: DeprecationWarning: `should_run_async` will not call `transform_cell` automatically in the future. Please pass the result to `transformed_cell` argument and any exception that happen during thetransform in `preprocessing_exc_tuple` in IPython 7.17 and above.\n",
            "  and should_run_async(code)\n"
          ]
        }
      ]
    },
    {
      "cell_type": "code",
      "source": [
        "print(\"Frequent Itemsets:\")\n",
        "print(frequent_itemsets)\n",
        "\n"
      ],
      "metadata": {
        "colab": {
          "base_uri": "https://localhost:8080/"
        },
        "id": "KLRTRfKVg9zO",
        "outputId": "abd79eec-e1eb-4969-f08e-603c8081efec"
      },
      "execution_count": null,
      "outputs": [
        {
          "output_type": "stream",
          "name": "stdout",
          "text": [
            "Frequent Itemsets:\n",
            "    support               itemsets\n",
            "0       1.0                (bread)\n",
            "1       0.6               (butter)\n",
            "2       0.4                  (jam)\n",
            "3       0.8                 (milk)\n",
            "4       0.6        (bread, butter)\n",
            "5       0.4           (bread, jam)\n",
            "6       0.8          (bread, milk)\n",
            "7       0.4         (milk, butter)\n",
            "8       0.4            (milk, jam)\n",
            "9       0.4  (bread, milk, butter)\n",
            "10      0.4     (bread, milk, jam)\n"
          ]
        },
        {
          "output_type": "stream",
          "name": "stderr",
          "text": [
            "/usr/local/lib/python3.11/dist-packages/ipykernel/ipkernel.py:283: DeprecationWarning: `should_run_async` will not call `transform_cell` automatically in the future. Please pass the result to `transformed_cell` argument and any exception that happen during thetransform in `preprocessing_exc_tuple` in IPython 7.17 and above.\n",
            "  and should_run_async(code)\n"
          ]
        }
      ]
    },
    {
      "cell_type": "code",
      "source": [
        "rules = association_rules(frequent_itemsets, metric=\"confidence\", min_threshold=0.7)\n"
      ],
      "metadata": {
        "colab": {
          "base_uri": "https://localhost:8080/"
        },
        "id": "hgnN_x_Kg_dE",
        "outputId": "ac260502-4850-445b-8f0d-a4e6803c1852"
      },
      "execution_count": null,
      "outputs": [
        {
          "output_type": "stream",
          "name": "stderr",
          "text": [
            "/usr/local/lib/python3.11/dist-packages/ipykernel/ipkernel.py:283: DeprecationWarning: `should_run_async` will not call `transform_cell` automatically in the future. Please pass the result to `transformed_cell` argument and any exception that happen during thetransform in `preprocessing_exc_tuple` in IPython 7.17 and above.\n",
            "  and should_run_async(code)\n",
            "/usr/local/lib/python3.11/dist-packages/mlxtend/frequent_patterns/association_rules.py:186: RuntimeWarning: invalid value encountered in divide\n",
            "  cert_metric = np.where(certainty_denom == 0, 0, certainty_num / certainty_denom)\n"
          ]
        }
      ]
    },
    {
      "cell_type": "code",
      "source": [
        "print(\"\\nAssociation Rules:\")\n",
        "print(rules)\n",
        "\n"
      ],
      "metadata": {
        "colab": {
          "base_uri": "https://localhost:8080/"
        },
        "id": "dAGoyDF9hDVw",
        "outputId": "551d295a-4486-4a27-adcb-f73a70d80c19"
      },
      "execution_count": null,
      "outputs": [
        {
          "output_type": "stream",
          "name": "stdout",
          "text": [
            "\n",
            "Association Rules:\n",
            "      antecedents    consequents  antecedent support  consequent support  \\\n",
            "0        (butter)        (bread)                 0.6                 1.0   \n",
            "1           (jam)        (bread)                 0.4                 1.0   \n",
            "2         (bread)         (milk)                 1.0                 0.8   \n",
            "3          (milk)        (bread)                 0.8                 1.0   \n",
            "4           (jam)         (milk)                 0.4                 0.8   \n",
            "5  (butter, milk)        (bread)                 0.4                 1.0   \n",
            "6    (bread, jam)         (milk)                 0.4                 0.8   \n",
            "7     (milk, jam)        (bread)                 0.4                 1.0   \n",
            "8           (jam)  (bread, milk)                 0.4                 0.8   \n",
            "\n",
            "   support  confidence  lift  representativity  leverage  conviction  \\\n",
            "0      0.6         1.0  1.00               1.0      0.00         inf   \n",
            "1      0.4         1.0  1.00               1.0      0.00         inf   \n",
            "2      0.8         0.8  1.00               1.0      0.00         1.0   \n",
            "3      0.8         1.0  1.00               1.0      0.00         inf   \n",
            "4      0.4         1.0  1.25               1.0      0.08         inf   \n",
            "5      0.4         1.0  1.00               1.0      0.00         inf   \n",
            "6      0.4         1.0  1.25               1.0      0.08         inf   \n",
            "7      0.4         1.0  1.00               1.0      0.00         inf   \n",
            "8      0.4         1.0  1.25               1.0      0.08         inf   \n",
            "\n",
            "   zhangs_metric  jaccard  certainty  kulczynski  \n",
            "0       0.000000      0.6        0.0        0.80  \n",
            "1       0.000000      0.4        0.0        0.70  \n",
            "2       0.000000      0.8        0.0        0.90  \n",
            "3       0.000000      0.8        0.0        0.90  \n",
            "4       0.333333      0.5        1.0        0.75  \n",
            "5       0.000000      0.4        0.0        0.70  \n",
            "6       0.333333      0.5        1.0        0.75  \n",
            "7       0.000000      0.4        0.0        0.70  \n",
            "8       0.333333      0.5        1.0        0.75  \n"
          ]
        },
        {
          "output_type": "stream",
          "name": "stderr",
          "text": [
            "/usr/local/lib/python3.11/dist-packages/ipykernel/ipkernel.py:283: DeprecationWarning: `should_run_async` will not call `transform_cell` automatically in the future. Please pass the result to `transformed_cell` argument and any exception that happen during thetransform in `preprocessing_exc_tuple` in IPython 7.17 and above.\n",
            "  and should_run_async(code)\n"
          ]
        }
      ]
    },
    {
      "cell_type": "code",
      "source": [
        "rules['support'] = rules['support']\n",
        "rules['confidence'] = rules['confidence']\n",
        "rules['lift'] = rules['lift']\n"
      ],
      "metadata": {
        "colab": {
          "base_uri": "https://localhost:8080/"
        },
        "id": "i1RRBSQ5hICy",
        "outputId": "87d32e67-f842-44d0-d9cf-f2e982ca0b3a"
      },
      "execution_count": null,
      "outputs": [
        {
          "output_type": "stream",
          "name": "stderr",
          "text": [
            "/usr/local/lib/python3.11/dist-packages/ipykernel/ipkernel.py:283: DeprecationWarning: `should_run_async` will not call `transform_cell` automatically in the future. Please pass the result to `transformed_cell` argument and any exception that happen during thetransform in `preprocessing_exc_tuple` in IPython 7.17 and above.\n",
            "  and should_run_async(code)\n"
          ]
        }
      ]
    },
    {
      "cell_type": "code",
      "source": [
        "print(\"\\nAssociation Rules with Support, Confidence, and Lift:\")\n",
        "print(rules[['antecedents', 'consequents', 'support', 'confidence', 'lift']])"
      ],
      "metadata": {
        "colab": {
          "base_uri": "https://localhost:8080/"
        },
        "id": "ZKYBPNajhLgE",
        "outputId": "fd96fd68-bd88-4b22-b938-23666f7a661e"
      },
      "execution_count": null,
      "outputs": [
        {
          "output_type": "stream",
          "name": "stdout",
          "text": [
            "\n",
            "Association Rules with Support, Confidence, and Lift:\n",
            "      antecedents    consequents  support  confidence  lift\n",
            "0        (butter)        (bread)      0.6         1.0  1.00\n",
            "1           (jam)        (bread)      0.4         1.0  1.00\n",
            "2         (bread)         (milk)      0.8         0.8  1.00\n",
            "3          (milk)        (bread)      0.8         1.0  1.00\n",
            "4           (jam)         (milk)      0.4         1.0  1.25\n",
            "5  (butter, milk)        (bread)      0.4         1.0  1.00\n",
            "6    (bread, jam)         (milk)      0.4         1.0  1.25\n",
            "7     (milk, jam)        (bread)      0.4         1.0  1.00\n",
            "8           (jam)  (bread, milk)      0.4         1.0  1.25\n"
          ]
        },
        {
          "output_type": "stream",
          "name": "stderr",
          "text": [
            "/usr/local/lib/python3.11/dist-packages/ipykernel/ipkernel.py:283: DeprecationWarning: `should_run_async` will not call `transform_cell` automatically in the future. Please pass the result to `transformed_cell` argument and any exception that happen during thetransform in `preprocessing_exc_tuple` in IPython 7.17 and above.\n",
            "  and should_run_async(code)\n"
          ]
        }
      ]
    }
  ]
}